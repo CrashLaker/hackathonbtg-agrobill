{
 "cells": [
  {
   "cell_type": "code",
   "execution_count": 1,
   "id": "e429005f-d806-4a44-b1c3-a79c56f9212e",
   "metadata": {},
   "outputs": [],
   "source": [
    "import requests"
   ]
  },
  {
   "cell_type": "code",
   "execution_count": null,
   "id": "5e906646-8169-4e21-a1d0-746f3474939f",
   "metadata": {},
   "outputs": [],
   "source": []
  },
  {
   "cell_type": "code",
   "execution_count": null,
   "id": "f5d2c8f6-0297-4fb7-a8aa-d5c1a9a6ba60",
   "metadata": {},
   "outputs": [],
   "source": []
  },
  {
   "cell_type": "code",
   "execution_count": 5,
   "id": "85336852-be5c-4183-a079-d65b62cff4e5",
   "metadata": {},
   "outputs": [],
   "source": [
    "rs = requests.get(\"https://challenge.hackathonbtg.com/financings/v1/contracts\")"
   ]
  },
  {
   "cell_type": "code",
   "execution_count": 6,
   "id": "ca32e011-8ca2-4d60-89bf-f00ef2d6742f",
   "metadata": {},
   "outputs": [],
   "source": [
    "data = rs.json()"
   ]
  },
  {
   "cell_type": "code",
   "execution_count": 8,
   "id": "e364e051-03d7-4466-b05a-0fbf9e84fbeb",
   "metadata": {},
   "outputs": [
    {
     "data": {
      "text/plain": [
       "dict_keys(['data', 'links', 'meta'])"
      ]
     },
     "execution_count": 8,
     "metadata": {},
     "output_type": "execute_result"
    }
   ],
   "source": [
    "data.keys()"
   ]
  },
  {
   "cell_type": "code",
   "execution_count": 10,
   "id": "add1cec7-e4e5-429e-87d6-a17864718f8d",
   "metadata": {},
   "outputs": [
    {
     "data": {
      "text/plain": [
       "{'data': [],\n",
       " 'links': {'self': 'https://challenge.hackathonbtg.com/financings/v1/contracts'},\n",
       " 'meta': {'totalRecords': 0,\n",
       "  'totalPages': 0,\n",
       "  'requestDateTime': '2022-09-24T13:25:38Z'}}"
      ]
     },
     "execution_count": 10,
     "metadata": {},
     "output_type": "execute_result"
    }
   ],
   "source": [
    "data"
   ]
  },
  {
   "cell_type": "code",
   "execution_count": null,
   "id": "ba992e21-94d5-46cc-9602-54e09aa1665b",
   "metadata": {},
   "outputs": [],
   "source": []
  },
  {
   "cell_type": "code",
   "execution_count": null,
   "id": "9428eba6-de81-41aa-9c5c-b0b1d4bc2477",
   "metadata": {},
   "outputs": [],
   "source": []
  },
  {
   "cell_type": "code",
   "execution_count": 11,
   "id": "52cc9113-dffd-47ae-9974-07606cbe7cf3",
   "metadata": {},
   "outputs": [],
   "source": [
    "rs= requests.get(\"https://challenge.hackathonbtg.com/financings/v1/contracts/:contractId\")"
   ]
  },
  {
   "cell_type": "code",
   "execution_count": 12,
   "id": "764396df-e421-4ed2-b4f4-a64e2a04e03f",
   "metadata": {},
   "outputs": [
    {
     "data": {
      "text/plain": [
       "{'data': {},\n",
       " 'links': {'self': 'https://challenge.hackathonbtg.com/financings/v1/contracts/:contractId'},\n",
       " 'meta': {'totalRecords': 0,\n",
       "  'totalPages': 1,\n",
       "  'requestDateTime': '2022-09-24T13:30:42Z'}}"
      ]
     },
     "execution_count": 12,
     "metadata": {},
     "output_type": "execute_result"
    }
   ],
   "source": [
    "rs.json()"
   ]
  },
  {
   "cell_type": "code",
   "execution_count": null,
   "id": "1d054074-d946-48f1-83a6-4e9bb9db4e04",
   "metadata": {},
   "outputs": [],
   "source": []
  }
 ],
 "metadata": {
  "kernelspec": {
   "display_name": "Python 3 (ipykernel)",
   "language": "python",
   "name": "python3"
  },
  "language_info": {
   "codemirror_mode": {
    "name": "ipython",
    "version": 3
   },
   "file_extension": ".py",
   "mimetype": "text/x-python",
   "name": "python",
   "nbconvert_exporter": "python",
   "pygments_lexer": "ipython3",
   "version": "3.10.5"
  }
 },
 "nbformat": 4,
 "nbformat_minor": 5
}
